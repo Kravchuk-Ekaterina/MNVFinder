{
 "cells": [
  {
   "cell_type": "markdown",
   "id": "07f2f354",
   "metadata": {},
   "source": [
    "# Validation: test2"
   ]
  },
  {
   "cell_type": "markdown",
   "id": "98cf2eef",
   "metadata": {},
   "source": [
    "The test is validation on gnomAD data (selected SNPs with population frequency 5% or more) and ClinVar data (2022-05-07 18:17) https://ftp.ncbi.nlm.nih.gov/pub/clinvar/vcf_GRCh38/"
   ]
  },
  {
   "cell_type": "markdown",
   "id": "77ea768d",
   "metadata": {},
   "source": [
    "## 1. Data preparation"
   ]
  },
  {
   "cell_type": "markdown",
   "id": "a775ee2f",
   "metadata": {},
   "source": [
    "Removing headers:"
   ]
  },
  {
   "cell_type": "markdown",
   "id": "a1c3a12f",
   "metadata": {},
   "source": [
    "```bash\n",
    "cat gnomad_hg38_af5pct.vcf | grep -v ^## > gnomad_hg38_af5pct_no_header.vcf\n",
    "cat clinvar.vcf | grep -v ^## > clinvar_no_header.vcf\n",
    "awk 'NR>1' clinvar_no_header.vcf > clinvar_for_merging.vcf\n",
    "```"
   ]
  },
  {
   "cell_type": "markdown",
   "id": "5ca560bb",
   "metadata": {},
   "source": [
    "Merging files:"
   ]
  },
  {
   "cell_type": "markdown",
   "id": "32b46e09",
   "metadata": {},
   "source": [
    "```bash\n",
    "cat gnomad_hg38_af5pct_no_header.vcf clinvar_for_merging.vcf > merged_data.vcf\n",
    "```"
   ]
  },
  {
   "cell_type": "markdown",
   "id": "b1fb909e",
   "metadata": {},
   "source": [
    "Sorting data:"
   ]
  },
  {
   "cell_type": "markdown",
   "id": "186963d2",
   "metadata": {},
   "source": [
    "```bash\n",
    "cat merged_data.vcf | awk '$1 ~ /^#/ {print $0;next} {print $0 | \"LC_ALL=C sort -k1,1 -k2,2n\"}' > sorted_data.vcf\n",
    "```"
   ]
  },
  {
   "cell_type": "markdown",
   "id": "ddea9d5d",
   "metadata": {},
   "source": [
    "Splitting data into 3 parts:"
   ]
  },
  {
   "cell_type": "code",
   "execution_count": 1,
   "id": "c83e85af",
   "metadata": {},
   "outputs": [],
   "source": [
    "import pandas as pd\n",
    "import allel"
   ]
  },
  {
   "cell_type": "code",
   "execution_count": 3,
   "id": "5720edd7",
   "metadata": {},
   "outputs": [],
   "source": [
    "sorted_data = allel.vcf_to_dataframe('./sorted_data.vcf')"
   ]
  },
  {
   "cell_type": "code",
   "execution_count": 4,
   "id": "904a847d",
   "metadata": {},
   "outputs": [
    {
     "data": {
      "text/plain": [
       "(12032635, 9)"
      ]
     },
     "execution_count": 4,
     "metadata": {},
     "output_type": "execute_result"
    }
   ],
   "source": [
    "sorted_data.shape"
   ]
  },
  {
   "cell_type": "markdown",
   "id": "e895b2e4",
   "metadata": {},
   "source": [
    "## 2. Running VEP"
   ]
  },
  {
   "cell_type": "markdown",
   "id": "829a3e35",
   "metadata": {},
   "source": [
    "```bash\n",
    "path_to_vep/vep --cache -canonical -i ./sorted_data.vcf -o ./test2_vep_coding.vcf --coding_only\n",
    "```"
   ]
  },
  {
   "cell_type": "markdown",
   "id": "41115416",
   "metadata": {},
   "source": [
    "There were some problems with annotationg such a huge file and VEP finished after annotationg 5338604 SNPs <br>\n",
    "I decided to analyse 5000000 of SNPs"
   ]
  },
  {
   "cell_type": "markdown",
   "id": "45f71731",
   "metadata": {},
   "source": [
    "```bash\n",
    "head -n 5000043 test2_vep_coding.vcf > test2.vcf\n",
    "```"
   ]
  },
  {
   "cell_type": "markdown",
   "id": "f2c507ed",
   "metadata": {},
   "source": [
    "## 3. Running MNVFinder"
   ]
  },
  {
   "cell_type": "markdown",
   "id": "c4fdefc3",
   "metadata": {},
   "source": [
    "```bash\n",
    "python ../../code/mnvfinder.py -i test2.vcf -o .\n",
    "```\n",
    "The output:\n",
    "```bash\n",
    "Reading data...\n",
    "Searching for polymorphisms in the same codon...\n",
    "Would like to save file with MNVs annotated as SNPs? y/n y\n",
    "Would like to save file with SNP annotation without misannotated MNVs? y/n y\n",
    "Annotating MNVs...\n",
    "Succesfully finished\n",
    "Found 4414 MNVs:\n",
    "missense_variant 4120\n",
    "stop_lost 209\n",
    "stop_gained 44\n",
    "synonymous_variant 41\n",
    "The output file(s) can be found in  .\n",
    "```"
   ]
  },
  {
   "cell_type": "markdown",
   "id": "2c7bd06a",
   "metadata": {},
   "source": [
    "## 4. Analysing results"
   ]
  },
  {
   "cell_type": "markdown",
   "id": "83fae917",
   "metadata": {},
   "source": [
    "### 4.1 Calculating theoretical effect of SNPs and MNVs"
   ]
  },
  {
   "cell_type": "code",
   "execution_count": 1,
   "id": "04e3415a",
   "metadata": {},
   "outputs": [],
   "source": [
    "code = {'TTT' : 'F', 'TTC' : 'F', 'TTA' : 'L', 'TTG' : 'L', \n",
    "        'TCT' : 'S', 'TCC' : 'S', 'TCA' : 'S', 'TCG' : 'S', \n",
    "        'TAT' : 'Y', 'TAC' : 'Y', 'TAA' : '*', 'TAG' : '*', \n",
    "        'TGT' : 'C', 'TGC' : 'C', 'TGA' : '*', 'TGG' : 'W', \n",
    "        'CTT' : 'L', 'CTC' : 'L', 'CTA' : 'L', 'CTG' : 'L', \n",
    "        'CCT' : 'P', 'CCC' : 'P', 'CCA' : 'P', 'CCG' : 'P', \n",
    "        'CAT' : 'H', 'CAC' : 'H', 'CAA' : 'Q', 'CAG' : 'Q', \n",
    "        'CGT' : 'R', 'CGC' : 'R', 'CGA' : 'R', 'CGG' : 'R', \n",
    "        'ATT' : 'I', 'ATC' : 'I', 'ATA' : 'I', 'ATG' : 'M', \n",
    "        'ACT' : 'T', 'ACC' : 'T', 'ACA' : 'T', 'ACG' : 'T', \n",
    "        'AAT' : 'N', 'AAC' : 'N', 'AAA' : 'K', 'AAG' : 'K', \n",
    "        'AGT' : 'S', 'AGC' : 'S', 'AGA' : 'R', 'AGG' : 'R', \n",
    "        'GTT' : 'V', 'GTC' : 'V', 'GTA' : 'V', 'GTG' : 'V', \n",
    "        'GCT' : 'A', 'GCC' : 'A', 'GCA' : 'A', 'GCG' : 'A', \n",
    "        'GAT' : 'D', 'GAC' : 'D', 'GAA' : 'E', 'GAG' : 'E', \n",
    "        'GGT' : 'G', 'GGC' : 'G', 'GGA' : 'G', 'GGG' : 'G'}"
   ]
  },
  {
   "cell_type": "code",
   "execution_count": 2,
   "id": "a5b98f30",
   "metadata": {},
   "outputs": [],
   "source": [
    "letters = ['A', 'C', 'T', 'G']"
   ]
  },
  {
   "cell_type": "code",
   "execution_count": 3,
   "id": "af6f3890",
   "metadata": {},
   "outputs": [],
   "source": [
    "consequences = {'synonymous_variant':0, 'missense_variant':0, 'stop_gained':0, 'stop_lost':0}\n",
    "for codon in code:\n",
    "    aa = code[codon]\n",
    "    for position in range(3):\n",
    "        for letter in letters:\n",
    "            new_codon = codon\n",
    "            new_codon = list(new_codon)\n",
    "            new_codon[position] = letter\n",
    "            if new_codon != codon:\n",
    "                new_aa = code[''.join(new_codon)]\n",
    "                if new_aa == aa:\n",
    "                    consequences['synonymous_variant'] += 1\n",
    "                elif new_aa == '*':\n",
    "                    consequences['stop_gained'] += 1\n",
    "                elif aa == '*':\n",
    "                    consequences['stop_lost'] += 1\n",
    "                else:\n",
    "                    consequences['missense_variant'] += 1"
   ]
  },
  {
   "cell_type": "code",
   "execution_count": 4,
   "id": "062ee27a",
   "metadata": {},
   "outputs": [
    {
     "data": {
      "text/plain": [
       "{'synonymous_variant': 330,\n",
       " 'missense_variant': 392,\n",
       " 'stop_gained': 23,\n",
       " 'stop_lost': 23}"
      ]
     },
     "execution_count": 4,
     "metadata": {},
     "output_type": "execute_result"
    }
   ],
   "source": [
    "consequences"
   ]
  },
  {
   "cell_type": "code",
   "execution_count": 5,
   "id": "d20ebbf9",
   "metadata": {},
   "outputs": [],
   "source": [
    "impact = {}\n",
    "impact['LOW'] = consequences['synonymous_variant']\n",
    "impact['MODERATE'] = consequences['missense_variant']\n",
    "impact['HIGH'] = consequences['stop_gained'] + consequences['stop_lost']"
   ]
  },
  {
   "cell_type": "code",
   "execution_count": 6,
   "id": "07a82d5a",
   "metadata": {},
   "outputs": [
    {
     "data": {
      "text/plain": [
       "{'LOW': 330, 'MODERATE': 392, 'HIGH': 46}"
      ]
     },
     "execution_count": 6,
     "metadata": {},
     "output_type": "execute_result"
    }
   ],
   "source": [
    "impact"
   ]
  },
  {
   "cell_type": "code",
   "execution_count": 7,
   "id": "b4e32729",
   "metadata": {},
   "outputs": [],
   "source": [
    "MNconsequences = {'synonymous_variant':0, 'missense_variant':0, 'stop_gained':0, 'stop_lost':0}\n",
    "pairs = {}\n",
    "codons = []\n",
    "\n",
    "for codon in code:\n",
    "    pairs[codon] = []\n",
    "    codons.append(codon)\n",
    "\n",
    "for codon in codons:\n",
    "    for other_codon in codons:\n",
    "        if codon[0] == other_codon[0] and codon[1] != other_codon[1] and codon[2] != other_codon[2]:\n",
    "            pairs[codon].append(other_codon)\n",
    "        elif codon[0] != other_codon[0] and codon[1] == other_codon[1] and codon[2] != other_codon[2]:\n",
    "            pairs[codon].append(other_codon)\n",
    "        elif codon[0] != other_codon[0] and codon[1] != other_codon[1] and codon[2] == other_codon[2]:\n",
    "            pairs[codon].append(other_codon)\n",
    "\n",
    "for codon in pairs:\n",
    "    aa = code[codon]\n",
    "    for other_codon in pairs[codon]:\n",
    "        new_aa = code[other_codon]\n",
    "        if new_aa == aa:\n",
    "            MNconsequences['synonymous_variant'] += 1\n",
    "        elif new_aa == '*':\n",
    "            MNconsequences['stop_gained'] += 1\n",
    "        elif aa == '*':\n",
    "            MNconsequences['stop_lost'] += 1\n",
    "        else:\n",
    "            MNconsequences['missense_variant'] += 1"
   ]
  },
  {
   "cell_type": "code",
   "execution_count": 8,
   "id": "b7659bd1",
   "metadata": {},
   "outputs": [
    {
     "data": {
      "text/plain": [
       "{'synonymous_variant': 30,\n",
       " 'missense_variant': 1540,\n",
       " 'stop_gained': 79,\n",
       " 'stop_lost': 79}"
      ]
     },
     "execution_count": 8,
     "metadata": {},
     "output_type": "execute_result"
    }
   ],
   "source": [
    "MNconsequences"
   ]
  },
  {
   "cell_type": "code",
   "execution_count": 11,
   "id": "b6e85296",
   "metadata": {},
   "outputs": [],
   "source": [
    "MNimpact = {}\n",
    "MNimpact['LOW'] = MNconsequences['synonymous_variant']\n",
    "MNimpact['MODERATE'] = MNconsequences['missense_variant']\n",
    "MNimpact['HIGH'] = MNconsequences['stop_gained'] + MNconsequences['stop_lost']"
   ]
  },
  {
   "cell_type": "code",
   "execution_count": 12,
   "id": "3d27fc1f",
   "metadata": {},
   "outputs": [
    {
     "data": {
      "text/plain": [
       "{'LOW': 30, 'MODERATE': 1540, 'HIGH': 158}"
      ]
     },
     "execution_count": 12,
     "metadata": {},
     "output_type": "execute_result"
    }
   ],
   "source": [
    "MNimpact"
   ]
  },
  {
   "cell_type": "markdown",
   "id": "0d494d2a",
   "metadata": {},
   "source": [
    "### 4.2 Calculationg obtained effect of SNPs and MNVs"
   ]
  },
  {
   "cell_type": "code",
   "execution_count": 13,
   "id": "5a87ac49",
   "metadata": {},
   "outputs": [],
   "source": [
    "import pandas as pd"
   ]
  },
  {
   "cell_type": "code",
   "execution_count": 14,
   "id": "6cc4bb3a",
   "metadata": {},
   "outputs": [],
   "source": [
    "snp_data = pd.read_csv('snps.tab', sep='\\t', engine='python')"
   ]
  },
  {
   "cell_type": "code",
   "execution_count": 15,
   "id": "55de42e5",
   "metadata": {},
   "outputs": [],
   "source": [
    "snp_err_data = pd.read_csv('snps_err.tab', sep='\\t', engine='python')"
   ]
  },
  {
   "cell_type": "code",
   "execution_count": 24,
   "id": "544b7885",
   "metadata": {},
   "outputs": [],
   "source": [
    "snp_err_data = snp_err_data.sort_values('Gene')\n",
    "genes = list(snp_err_data['Gene'].unique())\n",
    "out = pd.DataFrame(columns=snp_err_data.columns)\n",
    "for i in genes:\n",
    "    gene_table = snp_err_data.loc[snp_err_data['Gene'] == i]\n",
    "    gene_table = gene_table.drop_duplicates('Protein_position')\n",
    "    out = pd.concat([out, gene_table])\n",
    "snp_err_data = out"
   ]
  },
  {
   "cell_type": "code",
   "execution_count": 16,
   "id": "1e767436",
   "metadata": {},
   "outputs": [
    {
     "data": {
      "text/plain": [
       "{'LOW': 41, 'MODERATE': 4120, 'HIGH': 253}"
      ]
     },
     "execution_count": 16,
     "metadata": {},
     "output_type": "execute_result"
    }
   ],
   "source": [
    "mnv_concequences = {'synonymous_variant':41, 'missense_variant':4120, 'stop_gained':44, 'stop_lost':209}\n",
    "mnv_impact = {}\n",
    "mnv_impact['LOW'] = mnv_concequences['synonymous_variant']\n",
    "mnv_impact['MODERATE'] = mnv_concequences['missense_variant']\n",
    "mnv_impact['HIGH'] = mnv_concequences['stop_gained'] + mnv_concequences['stop_lost']\n",
    "mnv_impact"
   ]
  },
  {
   "cell_type": "code",
   "execution_count": 17,
   "id": "27be68e4",
   "metadata": {},
   "outputs": [
    {
     "data": {
      "text/plain": [
       "{'synonymous_variant': 144772,\n",
       " 'missense_variant': 220000,\n",
       " 'stop_gained': 16578,\n",
       " 'stop_lost': 935,\n",
       " 'start_lost': 247}"
      ]
     },
     "execution_count": 17,
     "metadata": {},
     "output_type": "execute_result"
    }
   ],
   "source": [
    "snp_consequences = {'synonymous_variant':0, 'missense_variant':0, 'stop_gained':0, 'stop_lost':0, 'start_lost':0}\n",
    "for i in snp_data['Consequence']:\n",
    "    if 'synonymous_variant' in i:\n",
    "        snp_consequences['synonymous_variant'] += 1\n",
    "    elif 'missense_variant' in i:\n",
    "        snp_consequences['missense_variant'] += 1\n",
    "    elif 'stop_gained' in i:\n",
    "        snp_consequences['stop_gained'] += 1\n",
    "    elif 'stop_lost'in i:\n",
    "        snp_consequences['stop_lost'] += 1\n",
    "    elif 'start_lost' in i:\n",
    "        snp_consequences['start_lost'] += 1\n",
    "snp_consequences"
   ]
  },
  {
   "cell_type": "code",
   "execution_count": 20,
   "id": "93adc4c6",
   "metadata": {},
   "outputs": [
    {
     "data": {
      "text/plain": [
       "{'LOW': 144772, 'MODERATE': 220000, 'HIGH': 17513}"
      ]
     },
     "execution_count": 20,
     "metadata": {},
     "output_type": "execute_result"
    }
   ],
   "source": [
    "snp_impact = {}\n",
    "snp_impact['LOW'] = snp_consequences['synonymous_variant']\n",
    "snp_impact['MODERATE'] = snp_consequences['missense_variant']\n",
    "snp_impact['HIGH'] = snp_consequences['stop_gained'] + snp_consequences['stop_lost']\n",
    "snp_impact"
   ]
  },
  {
   "cell_type": "code",
   "execution_count": 40,
   "id": "af8e1c0d",
   "metadata": {},
   "outputs": [
    {
     "data": {
      "text/plain": [
       "{'synonymous_variant': 230700,\n",
       " 'missense_variant': 386707,\n",
       " 'stop_gained': 28976,\n",
       " 'stop_lost': 631,\n",
       " 'start_lost': 1007}"
      ]
     },
     "execution_count": 40,
     "metadata": {},
     "output_type": "execute_result"
    }
   ],
   "source": [
    "snp_err_consequences = {'synonymous_variant':0, 'missense_variant':0, 'stop_gained':0, 'stop_lost':0, 'start_lost':0}\n",
    "for i in snp_err_data['Consequence']:\n",
    "    if 'synonymous_variant' in i:\n",
    "        snp_err_consequences['synonymous_variant'] += 1\n",
    "    elif 'missense_variant' in i:\n",
    "        snp_err_consequences['missense_variant'] += 1\n",
    "    elif 'stop_gained' in i:\n",
    "        snp_err_consequences['stop_gained'] += 1\n",
    "    elif 'stop_lost'in i:\n",
    "        snp_err_consequences['stop_lost'] += 1\n",
    "    elif 'start_lost' in i:\n",
    "        snp_err_consequences['start_lost'] += 1\n",
    "snp_err_consequences"
   ]
  },
  {
   "cell_type": "code",
   "execution_count": 41,
   "id": "302e2358",
   "metadata": {},
   "outputs": [
    {
     "data": {
      "text/plain": [
       "{'LOW': 230700, 'MODERATE': 386707, 'HIGH': 29607}"
      ]
     },
     "execution_count": 41,
     "metadata": {},
     "output_type": "execute_result"
    }
   ],
   "source": [
    "snp_err_impact = {}\n",
    "snp_err_impact['LOW'] = snp_err_consequences['synonymous_variant']\n",
    "snp_err_impact['MODERATE'] = snp_err_consequences['missense_variant']\n",
    "snp_err_impact['HIGH'] = snp_err_consequences['stop_gained'] + snp_err_consequences['stop_lost']\n",
    "snp_err_impact"
   ]
  },
  {
   "cell_type": "markdown",
   "id": "6cc77cfd",
   "metadata": {},
   "source": [
    "### 4.3 Plotting"
   ]
  },
  {
   "cell_type": "code",
   "execution_count": 25,
   "id": "e2cb65a1",
   "metadata": {},
   "outputs": [],
   "source": [
    "import matplotlib.pyplot as plt"
   ]
  },
  {
   "cell_type": "markdown",
   "id": "9cad1f1d",
   "metadata": {},
   "source": [
    "#### Theoretical impact"
   ]
  },
  {
   "cell_type": "code",
   "execution_count": 38,
   "id": "7d2bd58c",
   "metadata": {},
   "outputs": [
    {
     "data": {
      "text/plain": [
       "Text(0.5, 1.0, 'MNVs impact')"
      ]
     },
     "execution_count": 38,
     "metadata": {},
     "output_type": "execute_result"
    },
    {
     "data": {
      "image/png": "[encoded data removed]",
      "text/plain": [
       "<Figure size 1080x720 with 2 Axes>"
      ]
     },
     "metadata": {},
     "output_type": "display_data"
    }
   ],
   "source": [
    "labels = ['LOW', 'MODERATE', 'HIGH']\n",
    "snp_sizes = [330, 392, 46]\n",
    "mnv_sizes = [30, 1540, 158]\n",
    "colors = ['green', 'yellow', 'orange']\n",
    "\n",
    "fig, axes = plt.subplots(ncols = 2, figsize=(15,10))\n",
    "plt.suptitle('Theoretical impact of the variants', size = 25)\n",
    "fig.tight_layout()\n",
    "\n",
    "axes[0].pie(snp_sizes, labels=labels, colors=colors, startangle=90, autopct='%1.1f%%')\n",
    "axes[0].set_title('SNPs impact', size = 20)\n",
    "\n",
    "axes[1].pie(mnv_sizes, labels=labels, colors=colors, startangle=90, autopct='%1.1f%%')\n",
    "axes[1].set_title('MNVs impact', size = 20)"
   ]
  },
  {
   "cell_type": "markdown",
   "id": "d6f49d17",
   "metadata": {},
   "source": [
    "#### The obtained impact"
   ]
  },
  {
   "cell_type": "code",
   "execution_count": 44,
   "id": "1031b655",
   "metadata": {},
   "outputs": [
    {
     "data": {
      "text/plain": [
       "Text(0.5, 1.0, 'MNVs impact')"
      ]
     },
     "execution_count": 44,
     "metadata": {},
     "output_type": "execute_result"
    },
    {
     "data": {
      "image/png": "[encoded data removed]",
      "text/plain": [
       "<Figure size 1080x432 with 3 Axes>"
      ]
     },
     "metadata": {},
     "output_type": "display_data"
    }
   ],
   "source": [
    "{'LOW': 230700, 'MODERATE': 386707, 'HIGH': 29607}\n",
    "labels = ['LOW', 'MODERATE', 'HIGH']\n",
    "snp_sizes = [144772, 220000, 17513]\n",
    "snp_err_sizes = [230700, 386707, 29607]\n",
    "mnv_sizes = [41, 4120, 253]\n",
    "colors = ['green', 'yellow', 'orange']\n",
    "\n",
    "fig, axes = plt.subplots(ncols = 3, figsize=(15,6))\n",
    "plt.suptitle('The odtained impact of the variants', size = 25)\n",
    "fig.tight_layout()\n",
    "\n",
    "axes[0].pie(snp_sizes, labels=labels, colors=colors, startangle=90, autopct='%1.1f%%')\n",
    "axes[0].set_title('SNPs impact', size = 20)\n",
    "\n",
    "axes[1].pie(snp_err_sizes, labels=labels, colors=colors, startangle=90, autopct='%1.1f%%')\n",
    "axes[1].set_title('The impact of SNPs which potentially form MNVs', size = 20)\n",
    "\n",
    "axes[2].pie(mnv_sizes, labels=labels, colors=colors, startangle=90, autopct='%1.1f%%')\n",
    "axes[2].set_title('MNVs impact', size = 20)"
   ]
  }
 ],
 "metadata": {
  "kernelspec": {
   "display_name": "Python 3 (ipykernel)",
   "language": "python",
   "name": "python3"
  },
  "language_info": {
   "codemirror_mode": {
    "name": "ipython",
    "version": 3
   },
   "file_extension": ".py",
   "mimetype": "text/x-python",
   "name": "python",
   "nbconvert_exporter": "python",
   "pygments_lexer": "ipython3",
   "version": "3.9.7"
  }
 },
 "nbformat": 4,
 "nbformat_minor": 5
}
